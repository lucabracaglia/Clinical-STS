{
 "cells": [
  {
   "cell_type": "code",
   "execution_count": null,
   "metadata": {
    "colab": {
     "base_uri": "https://localhost:8080/"
    },
    "executionInfo": {
     "elapsed": 4868,
     "status": "ok",
     "timestamp": 1689256208747,
     "user": {
      "displayName": "Luca Bracaglia",
      "userId": "02562360566548543549"
     },
     "user_tz": -120
    },
    "id": "lnF7_MY07VIn",
    "outputId": "4bb5b024-c184-42ba-9be7-45812ee5be4f"
   },
   "outputs": [],
   "source": [
    "# Install packages\n",
    "!pip install nltk\n",
    "!pip install sentence-transformers\n",
    "!pip install torch torchvision torchaudio"
   ]
  },
  {
   "cell_type": "markdown",
   "metadata": {},
   "source": [
    "Possbilità anche di utilizzare un tokenizzatore grazie a spacy o NLTK"
   ]
  },
  {
   "cell_type": "code",
   "execution_count": null,
   "metadata": {},
   "outputs": [],
   "source": [
    "import nltk\n",
    "import re\n",
    "import numpy as np\n",
    "from scipy.stats import pearsonr\n",
    "from sklearn.model_selection import train_test_split\n",
    "from nltk.corpus import stopwords\n",
    "from nltk.tokenize import word_tokenize\n",
    "from sentence_transformers import SentenceTransformer\n",
    "#from transformers import AutoTokenizer, AutoModel\n",
    "\n",
    "#tokenizer = AutoTokenizer.from_pretrained(\"medicalai/ClinicalBERT\")\n",
    "#model = AutoModel.from_pretrained(\"medicalai/ClinicalBERT\")\n",
    "\n",
    "nltk.download('stopwords')  # Download nltk stopwords\n",
    "nltk.download('punkt')      # Download nltk punkt tokenizer\n",
    "#nltk.download('wordnet')\n",
    "\n",
    "text = []\n",
    "stopwords_list = set(stopwords.words(\"english\"))\n",
    "\n",
    "file_path = r'C:\\Users\\Utente\\Desktop\\Semantic Textual Similarity\\Clinical Semantic Textual Similarity\\clinicalSTS2019\\train\\clinicalSTS2019.train.txt'\n",
    "\n",
    "\n",
    "with open(file_path, 'r') as f:\n",
    "    for line in f.readlines():\n",
    "\n",
    "        # Splitting by tab\n",
    "        line_parts = re.split('\\t', line)\n",
    "        \n",
    "        filtered_sentences = []\n",
    "        for sentence in line_parts:\n",
    "            # Lowercasing\n",
    "            lower_sentence = sentence.lower()\n",
    "\n",
    "            remove_apex = lower_sentence.replace ('\"', ' ')\n",
    "            \n",
    "            remove_whitespace = remove_apex.strip()\n",
    "            \n",
    "            remove_punteggiatura = re.sub(r'[^\\w\\s.]', '', remove_whitespace)\n",
    "            \n",
    "            rimuovi_puntifin = re.sub(r'\\.$', '', remove_punteggiatura)\n",
    "            \n",
    "            #tokenized_sentence = word_tokenize(rimuovi_puntifin)\n",
    "            \n",
    "            # Remove stopwords\n",
    "            filtered_tokens = [token for token in rimuovi_puntifin if token.lower() not in stopwords_list]\n",
    "\n",
    "            filtered_sentences.append(filtered_tokens)\n",
    "            \n",
    "        # Conversione del terzo elemento in un numero\n",
    "        filtered_sentences[-1] = float(filtered_sentences[-1][0])\n",
    "        \n",
    "        text.append(filtered_sentences)\n",
    "        "
   ]
  },
  {
   "cell_type": "code",
   "execution_count": null,
   "metadata": {},
   "outputs": [],
   "source": [
    "text[0]"
   ]
  },
  {
   "cell_type": "markdown",
   "metadata": {
    "id": "RkkSf-hKDUc0"
   },
   "source": [
    "Viene inserito la tokenizzazione utilizzando un modello preaddestrato. Non restituisce risultati sperati. Non viene eseguita alcuna tecnica di normalizzazione (lemmatizzazione o stemming)"
   ]
  },
  {
   "cell_type": "code",
   "execution_count": null,
   "metadata": {
    "id": "B0Wq2JjRoJOC"
   },
   "outputs": [],
   "source": [
    "def make_split(embedded_representation, labels):\n",
    "    X_train, X_test, y_train, y_test = train_test_split(embedded_representation, labels, random_state=104, test_size=0.25, shuffle=True)\n",
    "\n",
    "    y_train = np.array(y_train, dtype=object)\n",
    "    y_test = np.array(y_test, dtype=object)\n",
    "\n",
    "    X_train = np.array(X_train, dtype=object)\n",
    "    X_test = np.array(X_test, dtype=object)\n",
    "\n",
    "    return X_train, X_test, y_train, y_test"
   ]
  },
  {
   "cell_type": "code",
   "execution_count": null,
   "metadata": {
    "id": "G70AGA6lou2O"
   },
   "outputs": [],
   "source": [
    "def cosine_similarity_unidimensional(v1, v2):\n",
    "    dot_product = np.dot(v1, v2)\n",
    "    norm_v1 = np.linalg.norm(v1)\n",
    "    norm_v2 = np.linalg.norm(v2)\n",
    "    similarity = dot_product / (norm_v1 * norm_v2)\n",
    "    return similarity"
   ]
  },
  {
   "cell_type": "code",
   "execution_count": null,
   "metadata": {
    "id": "tT4ZeKYhpVpO"
   },
   "outputs": [],
   "source": [
    "def normalize_labels(label):\n",
    "    label = [float(val) for val in label]  # Converti i valori in numeri decimali\n",
    "    min_val = np.min(label)\n",
    "    max_val = np.max(label)\n",
    "    normalized_labels_ = (label - min_val) / (max_val - min_val) * 2 - 1\n",
    "\n",
    "    return normalized_labels_"
   ]
  },
  {
   "cell_type": "code",
   "execution_count": null,
   "metadata": {},
   "outputs": [],
   "source": [
    "text_embedded=[]\n",
    "label=[]\n",
    "\n",
    "model=SentenceTransformer('bert-base-nli-mean-tokens')\n",
    "\n",
    "for sample in range(len(text)):\n",
    "    sentence_vectors = model.encode(text[sample][0:2])\n",
    "    text_embedded.append(sentence_vectors)\n",
    "    label.append(text[sample][2])\n",
    "\n",
    "labels = normalize_labels(label)"
   ]
  },
  {
   "cell_type": "code",
   "execution_count": null,
   "metadata": {},
   "outputs": [],
   "source": [
    "similarities = []\n",
    "\n",
    "for i in range(len(text_embedded)):\n",
    "    embedding_pair = text_embedded[i]\n",
    "    similarity = cosine_similarity_unidimensional([embedding_pair[0]], [embedding_pair[1]])\n",
    "    similarities.append(similarity[0][0])\n"
   ]
  },
  {
   "cell_type": "code",
   "execution_count": null,
   "metadata": {},
   "outputs": [],
   "source": [
    "correlation, p_value = pearsonr(similarities, labels)\n",
    "\n",
    "print(\"Correlation coefficient:\", correlation)\n",
    "print(\"p-value:\", p_value)"
   ]
  }
 ],
 "metadata": {
  "accelerator": "GPU",
  "colab": {
   "provenance": []
  },
  "gpuClass": "standard",
  "kernelspec": {
   "display_name": "Python 3",
   "language": "python",
   "name": "python3"
  },
  "language_info": {
   "codemirror_mode": {
    "name": "ipython",
    "version": 3
   },
   "file_extension": ".py",
   "mimetype": "text/x-python",
   "name": "python",
   "nbconvert_exporter": "python",
   "pygments_lexer": "ipython3",
   "version": "3.8.8"
  }
 },
 "nbformat": 4,
 "nbformat_minor": 1
}
