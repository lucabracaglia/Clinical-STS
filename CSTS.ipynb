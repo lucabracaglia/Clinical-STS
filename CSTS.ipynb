{
 "cells": [
  {
   "cell_type": "code",
   "execution_count": null,
   "metadata": {
    "colab": {
     "base_uri": "https://localhost:8080/"
    },
    "executionInfo": {
     "elapsed": 14062,
     "status": "ok",
     "timestamp": 1689256139216,
     "user": {
      "displayName": "Luca Bracaglia",
      "userId": "02562360566548543549"
     },
     "user_tz": -120
    },
    "id": "udJeqJEpf4Jd",
    "outputId": "6f696181-be96-41b0-f462-05b04ca3a72c"
   },
   "outputs": [],
   "source": [
    "pip install transformers"
   ]
  },
  {
   "cell_type": "code",
   "execution_count": 1,
   "metadata": {
    "colab": {
     "base_uri": "https://localhost:8080/"
    },
    "executionInfo": {
     "elapsed": 4868,
     "status": "ok",
     "timestamp": 1689256208747,
     "user": {
      "displayName": "Luca Bracaglia",
      "userId": "02562360566548543549"
     },
     "user_tz": -120
    },
    "id": "lnF7_MY07VIn",
    "outputId": "4bb5b024-c184-42ba-9be7-45812ee5be4f"
   },
   "outputs": [
    {
     "name": "stdout",
     "output_type": "stream",
     "text": [
      "Requirement already satisfied: nltk in c:\\users\\utente\\anaconda3\\lib\\site-packages (3.6.1)\n",
      "Requirement already satisfied: joblib in c:\\users\\utente\\anaconda3\\lib\\site-packages (from nltk) (1.0.1)\n",
      "Requirement already satisfied: click in c:\\users\\utente\\anaconda3\\lib\\site-packages (from nltk) (7.1.2)\n",
      "Requirement already satisfied: regex in c:\\users\\utente\\anaconda3\\lib\\site-packages (from nltk) (2021.4.4)\n",
      "Requirement already satisfied: tqdm in c:\\users\\utente\\anaconda3\\lib\\site-packages (from nltk) (4.59.0)\n"
     ]
    }
   ],
   "source": [
    "# Install packages\n",
    "!pip install nltk"
   ]
  },
  {
   "cell_type": "markdown",
   "metadata": {},
   "source": [
    "Possbilità anche di utilizzare un tokenizzatore grazie a spacy o NLTK"
   ]
  },
  {
   "cell_type": "code",
   "execution_count": 15,
   "metadata": {},
   "outputs": [
    {
     "name": "stderr",
     "output_type": "stream",
     "text": [
      "[nltk_data] Downloading package stopwords to\n",
      "[nltk_data]     C:\\Users\\Utente\\AppData\\Roaming\\nltk_data...\n",
      "[nltk_data]   Package stopwords is already up-to-date!\n"
     ]
    }
   ],
   "source": [
    "import nltk\n",
    "import re\n",
    "import numpy as np\n",
    "from scipy.stats import pearsonr\n",
    "from sklearn.model_selection import train_test_split\n",
    "from nltk.corpus import stopwords\n",
    "#from nltk.tokenize import word_tokenize\n",
    "from nltk.stem import WordNetLemmatizer\n",
    "from transformers import AutoTokenizer, AutoModel\n",
    "\n",
    "tokenizer = AutoTokenizer.from_pretrained(\"medicalai/ClinicalBERT\")\n",
    "#model = AutoModel.from_pretrained(\"medicalai/ClinicalBERT\")\n",
    "\n",
    "nltk.download('stopwords')  # Download nltk stopwords\n",
    "#nltk.download('punkt')      # Download nltk punkt tokenizer\n",
    "#nltk.download('wordnet')\n",
    "\n",
    "text = []\n",
    "stopwords_list = set(stopwords.words(\"english\"))\n",
    "\n",
    "file_path = r'C:\\Users\\Utente\\Desktop\\Semantic Textual Similarity\\Clinical Semantic Textual Similarity\\clinicalSTS2019\\train\\clinicalSTS2019.train.txt'\n",
    "\n",
    "\n",
    "with open(file_path, 'r') as f:\n",
    "    for line in f.readlines():\n",
    "        #line = line.strip()\n",
    "\n",
    "        # Splitting by tab\n",
    "        line_parts = re.split('\\t', line)\n",
    "\n",
    "        filtered_sentences = []\n",
    "        for sentence in line_parts:\n",
    "            # Lowercasing\n",
    "            lower_sentence = sentence.lower()\n",
    "\n",
    "            # Removing punctuation except periods\n",
    "            remove_apex = lower_sentence.replace ('\"', ' ')\n",
    "            \n",
    "            remove_whitespace = remove_apex.strip()\n",
    "            \n",
    "            tokenized_sentence = tokenizer.tokenize(remove_whitespace)\n",
    "            \n",
    "            # Rimozione delle stopwords\n",
    "            filtered_tokens = [token for token in tokenized_sentence if token.lower() not in stopwords_list]\n",
    "\n",
    "            filtered_sentences.append(filtered_tokens)\n",
    "\n",
    "        text.append(filtered_sentences)"
   ]
  },
  {
   "cell_type": "code",
   "execution_count": 14,
   "metadata": {},
   "outputs": [],
   "source": [
    "#text[0]"
   ]
  },
  {
   "cell_type": "code",
   "execution_count": 3,
   "metadata": {},
   "outputs": [
    {
     "name": "stdout",
     "output_type": "stream",
     "text": [
      "Requirement already satisfied: torch in c:\\users\\utente\\anaconda3\\lib\\site-packages (2.0.1)\n",
      "Requirement already satisfied: torchvision in c:\\users\\utente\\anaconda3\\lib\\site-packages (0.15.2)\n",
      "Requirement already satisfied: torchaudio in c:\\users\\utente\\anaconda3\\lib\\site-packages (2.0.2)\n",
      "Requirement already satisfied: filelock in c:\\users\\utente\\anaconda3\\lib\\site-packages (from torch) (3.0.12)\n",
      "Requirement already satisfied: networkx in c:\\users\\utente\\anaconda3\\lib\\site-packages (from torch) (2.5)\n",
      "Requirement already satisfied: sympy in c:\\users\\utente\\anaconda3\\lib\\site-packages (from torch) (1.8)\n",
      "Requirement already satisfied: typing-extensions in c:\\users\\utente\\anaconda3\\lib\\site-packages (from torch) (3.7.4.3)\n",
      "Requirement already satisfied: jinja2 in c:\\users\\utente\\anaconda3\\lib\\site-packages (from torch) (2.11.3)\n",
      "Requirement already satisfied: requests in c:\\users\\utente\\anaconda3\\lib\\site-packages (from torchvision) (2.25.1)\n",
      "Requirement already satisfied: numpy in c:\\users\\utente\\anaconda3\\lib\\site-packages (from torchvision) (1.20.1)\n",
      "Requirement already satisfied: pillow!=8.3.*,>=5.3.0 in c:\\users\\utente\\anaconda3\\lib\\site-packages (from torchvision) (8.2.0)\n",
      "Requirement already satisfied: MarkupSafe>=0.23 in c:\\users\\utente\\anaconda3\\lib\\site-packages (from jinja2->torch) (1.1.1)\n",
      "Requirement already satisfied: decorator>=4.3.0 in c:\\users\\utente\\anaconda3\\lib\\site-packages (from networkx->torch) (5.0.6)\n",
      "Requirement already satisfied: urllib3<1.27,>=1.21.1 in c:\\users\\utente\\anaconda3\\lib\\site-packages (from requests->torchvision) (1.26.4)\n",
      "Requirement already satisfied: chardet<5,>=3.0.2 in c:\\users\\utente\\anaconda3\\lib\\site-packages (from requests->torchvision) (4.0.0)\n",
      "Requirement already satisfied: certifi>=2017.4.17 in c:\\users\\utente\\anaconda3\\lib\\site-packages (from requests->torchvision) (2020.12.5)\n",
      "Requirement already satisfied: idna<3,>=2.5 in c:\\users\\utente\\anaconda3\\lib\\site-packages (from requests->torchvision) (2.10)\n",
      "Requirement already satisfied: mpmath>=0.19 in c:\\users\\utente\\anaconda3\\lib\\site-packages (from sympy->torch) (1.2.1)\n",
      "Note: you may need to restart the kernel to use updated packages.\n"
     ]
    }
   ],
   "source": [
    "pip install torch torchvision torchaudio"
   ]
  },
  {
   "cell_type": "markdown",
   "metadata": {
    "id": "RkkSf-hKDUc0"
   },
   "source": [
    "Viene inserito la tokenizzazione utilizzando un modello preaddestrato. Non restituisce risultati sperati. Non viene eseguita alcuna tecnica di normalizzazione dei token"
   ]
  },
  {
   "cell_type": "code",
   "execution_count": null,
   "metadata": {
    "id": "B0Wq2JjRoJOC"
   },
   "outputs": [],
   "source": [
    "def make_split(embedded_representation, labels):\n",
    "    X_train, X_test, y_train, y_test = train_test_split(embedded_representation, labels, random_state=104, test_size=0.25, shuffle=True)\n",
    "\n",
    "    y_train = np.array(y_train, dtype=object)\n",
    "    y_test = np.array(y_test, dtype=object)\n",
    "\n",
    "    X_train = np.array(X_train, dtype=object)\n",
    "    X_test = np.array(X_test, dtype=object)\n",
    "\n",
    "    return X_train, X_test, y_train, y_test"
   ]
  },
  {
   "cell_type": "code",
   "execution_count": null,
   "metadata": {
    "id": "G70AGA6lou2O"
   },
   "outputs": [],
   "source": [
    "def cosine_similarity_unidimensional(v1, v2):\n",
    "    dot_product = np.dot(v1, v2)\n",
    "    norm_v1 = np.linalg.norm(v1)\n",
    "    norm_v2 = np.linalg.norm(v2)\n",
    "    similarity = dot_product / (norm_v1 * norm_v2)\n",
    "    return similarity"
   ]
  },
  {
   "cell_type": "code",
   "execution_count": null,
   "metadata": {
    "id": "tT4ZeKYhpVpO"
   },
   "outputs": [],
   "source": [
    "def normalize_train(y):\n",
    "      y = [float(val) for val in y]  # Converti i valori in numeri decimali\n",
    "      min_val = np.min(y)\n",
    "      max_val = np.max(y)\n",
    "      normalized_labels_train = (y - min_val) / (max_val - min_val) * 2 - 1\n",
    "\n",
    "      return normalized_labels_train"
   ]
  }
 ],
 "metadata": {
  "accelerator": "GPU",
  "colab": {
   "provenance": []
  },
  "gpuClass": "standard",
  "kernelspec": {
   "display_name": "Python 3",
   "language": "python",
   "name": "python3"
  },
  "language_info": {
   "codemirror_mode": {
    "name": "ipython",
    "version": 3
   },
   "file_extension": ".py",
   "mimetype": "text/x-python",
   "name": "python",
   "nbconvert_exporter": "python",
   "pygments_lexer": "ipython3",
   "version": "3.8.8"
  }
 },
 "nbformat": 4,
 "nbformat_minor": 1
}
